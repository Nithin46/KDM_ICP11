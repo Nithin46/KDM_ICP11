{
  "nbformat": 4,
  "nbformat_minor": 0,
  "metadata": {
    "colab": {
      "name": "KDM_ICP11.ipynb",
      "provenance": [],
      "authorship_tag": "ABX9TyPkHewIe2hO7k1/MbfYcRF7",
      "include_colab_link": true
    },
    "kernelspec": {
      "name": "python3",
      "display_name": "Python 3"
    },
    "language_info": {
      "name": "python"
    },
    "accelerator": "GPU"
  },
  "cells": [
    {
      "cell_type": "markdown",
      "metadata": {
        "id": "view-in-github",
        "colab_type": "text"
      },
      "source": [
        "<a href=\"https://colab.research.google.com/github/Nithin46/KDM_ICP11/blob/main/KDM_ICP11.ipynb\" target=\"_parent\"><img src=\"https://colab.research.google.com/assets/colab-badge.svg\" alt=\"Open In Colab\"/></a>"
      ]
    },
    {
      "cell_type": "markdown",
      "metadata": {
        "id": "NEa0BvbsZuSJ"
      },
      "source": [
        "Importing all the necessary packages and Dataset. \n",
        "\n",
        "I have downloaded the CIFAR-10 (Canadian Institute For Advanced Research) Dataset for this assignment. The dataset consists of 60,000 32 x 32 colour images in 10 classes, with 6,000 images per class. There are 50,000 training images and 10,000 test images.\n",
        "\n",
        "These images are taken in varying lighting conditions and at different angles, and since these are colored images, and we will see that there are many variations in the color itself of similar objects.\n",
        "\n",
        "Key things are:\n",
        "\n",
        "*   Images are colored in CIFAR-10\n",
        "*   Each image is 32 x 32 pixel"
      ]
    },
    {
      "cell_type": "code",
      "metadata": {
        "id": "dBrG1BjqZvkR"
      },
      "source": [
        "import numpy as np\n",
        "import tensorflow as tf\n",
        "from keras.datasets import cifar10\n",
        "from keras.models import Sequential\n",
        "from keras.layers import Conv2D, MaxPooling2D, Dense, Flatten\n",
        "from keras.utils import to_categorical\n",
        "from keras.utils import np_utils"
      ],
      "execution_count": null,
      "outputs": []
    },
    {
      "cell_type": "code",
      "metadata": {
        "id": "KKUWICkWZ5P_"
      },
      "source": [
        "(train_images, train_labels), (test_images, test_labels) = cifar10.load_data()"
      ],
      "execution_count": null,
      "outputs": []
    },
    {
      "cell_type": "code",
      "metadata": {
        "id": "ux6BUZGQZ_O8"
      },
      "source": [
        "# Normalize the images.\n",
        "train_images = (train_images / 255) - 0.5\n",
        "test_images = (test_images / 255) - 0.5"
      ],
      "execution_count": null,
      "outputs": []
    },
    {
      "cell_type": "code",
      "metadata": {
        "colab": {
          "base_uri": "https://localhost:8080/"
        },
        "id": "vZllFwISaBnP",
        "outputId": "3f984755-a641-4835-fef7-511d2ff67853"
      },
      "source": [
        "# Reshape the images.\n",
        "\n",
        "train_images = train_images.reshape(train_images.shape[0], 32, 32, 3)\n",
        "test_images = test_images.reshape(test_images.shape[0], 32, 32, 3)\n",
        "train_images = train_images.astype('float32')\n",
        "test_images = test_images.astype('float32')\n",
        "\n",
        "print(train_images.shape)\n",
        "test_images.shape"
      ],
      "execution_count": null,
      "outputs": [
        {
          "output_type": "stream",
          "text": [
            "(50000, 32, 32, 3)\n"
          ],
          "name": "stdout"
        },
        {
          "output_type": "execute_result",
          "data": {
            "text/plain": [
              "(10000, 32, 32, 3)"
            ]
          },
          "metadata": {
            "tags": []
          },
          "execution_count": 4
        }
      ]
    },
    {
      "cell_type": "code",
      "metadata": {
        "colab": {
          "base_uri": "https://localhost:8080/"
        },
        "id": "ipL6nV1WsnGc",
        "outputId": "4aec8203-76df-463f-fab2-8ea515ac173a"
      },
      "source": [
        "test_label = test_labels\n",
        "train_labels = np_utils.to_categorical(train_labels)\n",
        "test_labels = np_utils.to_categorical(test_labels)\n",
        "\n",
        "print(train_labels.shape)\n",
        "print(test_labels.shape)"
      ],
      "execution_count": null,
      "outputs": [
        {
          "output_type": "stream",
          "text": [
            "(50000, 10)\n",
            "(10000, 10)\n"
          ],
          "name": "stdout"
        }
      ]
    },
    {
      "cell_type": "code",
      "metadata": {
        "id": "SvY60WijaFZA"
      },
      "source": [
        "num_filters = 10\n",
        "filter_size = 3\n",
        "pool_size = 2"
      ],
      "execution_count": null,
      "outputs": []
    },
    {
      "cell_type": "code",
      "metadata": {
        "id": "s9jCmMLHaGeQ"
      },
      "source": [
        "# Build the model.\n",
        "model = Sequential([\n",
        "  Conv2D(num_filters, filter_size, input_shape=(32, 32, 3)),\n",
        "  MaxPooling2D(pool_size=pool_size),\n",
        "  Flatten(),\n",
        "  Dense(10, activation='softmax'),\n",
        "])"
      ],
      "execution_count": null,
      "outputs": []
    },
    {
      "cell_type": "code",
      "metadata": {
        "id": "GogEjaTSaaqL"
      },
      "source": [
        "# Compile the model.\n",
        "model.compile(\n",
        "  optimizer ='adam',\n",
        "  loss='categorical_crossentropy',\n",
        "  metrics=['accuracy'],\n",
        ")"
      ],
      "execution_count": null,
      "outputs": []
    },
    {
      "cell_type": "code",
      "metadata": {
        "colab": {
          "base_uri": "https://localhost:8080/"
        },
        "id": "IWL22crYadu7",
        "outputId": "c45bba99-e99d-43f5-f53c-c91ee727aa3d"
      },
      "source": [
        "# Train the model.\n",
        "model.fit(\n",
        "  train_images,\n",
        "  train_labels,\n",
        "  epochs=15,\n",
        "  validation_data=(test_images,test_labels)\n",
        ")"
      ],
      "execution_count": null,
      "outputs": [
        {
          "output_type": "stream",
          "text": [
            "Epoch 1/15\n",
            "1563/1563 [==============================] - 8s 3ms/step - loss: 1.7209 - accuracy: 0.3986 - val_loss: 1.4177 - val_accuracy: 0.5049\n",
            "Epoch 2/15\n",
            "1563/1563 [==============================] - 5s 3ms/step - loss: 1.3889 - accuracy: 0.5201 - val_loss: 1.3584 - val_accuracy: 0.5279\n",
            "Epoch 3/15\n",
            "1563/1563 [==============================] - 5s 3ms/step - loss: 1.3012 - accuracy: 0.5538 - val_loss: 1.3157 - val_accuracy: 0.5413\n",
            "Epoch 4/15\n",
            "1563/1563 [==============================] - 5s 3ms/step - loss: 1.2286 - accuracy: 0.5791 - val_loss: 1.2653 - val_accuracy: 0.5603\n",
            "Epoch 5/15\n",
            "1563/1563 [==============================] - 5s 3ms/step - loss: 1.1856 - accuracy: 0.5898 - val_loss: 1.2380 - val_accuracy: 0.5763\n",
            "Epoch 6/15\n",
            "1563/1563 [==============================] - 5s 3ms/step - loss: 1.1377 - accuracy: 0.6111 - val_loss: 1.2293 - val_accuracy: 0.5721\n",
            "Epoch 7/15\n",
            "1563/1563 [==============================] - 5s 3ms/step - loss: 1.1067 - accuracy: 0.6239 - val_loss: 1.2017 - val_accuracy: 0.5803\n",
            "Epoch 8/15\n",
            "1563/1563 [==============================] - 5s 3ms/step - loss: 1.0882 - accuracy: 0.6242 - val_loss: 1.1868 - val_accuracy: 0.5872\n",
            "Epoch 9/15\n",
            "1563/1563 [==============================] - 5s 3ms/step - loss: 1.0681 - accuracy: 0.6342 - val_loss: 1.2043 - val_accuracy: 0.5847\n",
            "Epoch 10/15\n",
            "1563/1563 [==============================] - 5s 3ms/step - loss: 1.0491 - accuracy: 0.6420 - val_loss: 1.1821 - val_accuracy: 0.5917\n",
            "Epoch 11/15\n",
            "1563/1563 [==============================] - 5s 3ms/step - loss: 1.0346 - accuracy: 0.6439 - val_loss: 1.1793 - val_accuracy: 0.5925\n",
            "Epoch 12/15\n",
            "1563/1563 [==============================] - 5s 3ms/step - loss: 1.0357 - accuracy: 0.6443 - val_loss: 1.1861 - val_accuracy: 0.5932\n",
            "Epoch 13/15\n",
            "1563/1563 [==============================] - 5s 3ms/step - loss: 1.0170 - accuracy: 0.6531 - val_loss: 1.1630 - val_accuracy: 0.6023\n",
            "Epoch 14/15\n",
            "1563/1563 [==============================] - 5s 3ms/step - loss: 1.0106 - accuracy: 0.6540 - val_loss: 1.1865 - val_accuracy: 0.5947\n",
            "Epoch 15/15\n",
            "1563/1563 [==============================] - 5s 3ms/step - loss: 1.0018 - accuracy: 0.6575 - val_loss: 1.1749 - val_accuracy: 0.5996\n"
          ],
          "name": "stdout"
        },
        {
          "output_type": "execute_result",
          "data": {
            "text/plain": [
              "<tensorflow.python.keras.callbacks.History at 0x7f573b5aba10>"
            ]
          },
          "metadata": {
            "tags": []
          },
          "execution_count": 9
        }
      ]
    },
    {
      "cell_type": "code",
      "metadata": {
        "id": "IXG08QPofs4k"
      },
      "source": [
        "# Predict on the first 5 test images.\n",
        "predictions = model.predict(test_images[:10])"
      ],
      "execution_count": null,
      "outputs": []
    },
    {
      "cell_type": "code",
      "metadata": {
        "colab": {
          "base_uri": "https://localhost:8080/"
        },
        "id": "8aodZMdofvAo",
        "outputId": "2a2191a2-e7a4-4b54-c0d7-01b425b5f75f"
      },
      "source": [
        "# Print our model's predictions.\n",
        "print(\"These are the model predictions :\")\n",
        "print(np.argmax(predictions, axis=1))\n",
        "print(\"\\n\")"
      ],
      "execution_count": null,
      "outputs": [
        {
          "output_type": "stream",
          "text": [
            "These are the model predictions :\n",
            "[3 8 0 8 6 6 1 6 3 1]\n",
            "\n",
            "\n"
          ],
          "name": "stdout"
        }
      ]
    },
    {
      "cell_type": "code",
      "metadata": {
        "colab": {
          "base_uri": "https://localhost:8080/"
        },
        "id": "rRjPuW31fyMF",
        "outputId": "b874ab2b-e3d4-4b1f-ff16-c741454a1f33"
      },
      "source": [
        "# Check our predictions against the ground truths.\n",
        "print(\"These are the corresponding labels :\")\n",
        "print(test_label[:10])"
      ],
      "execution_count": null,
      "outputs": [
        {
          "output_type": "stream",
          "text": [
            "These are the corresponding labels :\n",
            "[[3]\n",
            " [8]\n",
            " [8]\n",
            " [0]\n",
            " [6]\n",
            " [6]\n",
            " [1]\n",
            " [6]\n",
            " [3]\n",
            " [1]]\n"
          ],
          "name": "stdout"
        }
      ]
    }
  ]
}