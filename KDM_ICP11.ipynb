{
  "nbformat": 4,
  "nbformat_minor": 0,
  "metadata": {
    "colab": {
      "name": "KDM_ICP11.ipynb",
      "provenance": [],
      "authorship_tag": "ABX9TyOQmbJ66csip3cII1TvlFsJ",
      "include_colab_link": true
    },
    "kernelspec": {
      "name": "python3",
      "display_name": "Python 3"
    },
    "language_info": {
      "name": "python"
    },
    "accelerator": "GPU"
  },
  "cells": [
    {
      "cell_type": "markdown",
      "metadata": {
        "id": "view-in-github",
        "colab_type": "text"
      },
      "source": [
        "<a href=\"https://colab.research.google.com/github/Nithin46/KDM_ICP11/blob/main/KDM_ICP11.ipynb\" target=\"_parent\"><img src=\"https://colab.research.google.com/assets/colab-badge.svg\" alt=\"Open In Colab\"/></a>"
      ]
    },
    {
      "cell_type": "markdown",
      "metadata": {
        "id": "NEa0BvbsZuSJ"
      },
      "source": [
        "First of all, import all necessary packages. \n",
        "\n",
        "CIFAR-10 (Canadian Institute For Advanced Research) Dataset: The dataset consists of 60,000 32 x 32 colour images in 10 classes, with 6,000 images per class. There are 50,000 training images and 10,000 test images.\n",
        "\n",
        "Now, these images are taken in varying lighting conditions and at different angles, and since these are colored images, you will see that there are many variations in the color itself of similar objects (for example, the color of ocean water)."
      ]
    },
    {
      "cell_type": "code",
      "metadata": {
        "id": "dBrG1BjqZvkR"
      },
      "source": [
        "import numpy as np\n",
        "import tensorflow as tf\n",
        "from keras.datasets import cifar10\n",
        "from keras.models import Sequential\n",
        "from keras.layers import Conv2D, MaxPooling2D, Dense, Flatten\n",
        "from keras.utils import to_categorical"
      ],
      "execution_count": 15,
      "outputs": []
    },
    {
      "cell_type": "code",
      "metadata": {
        "colab": {
          "base_uri": "https://localhost:8080/"
        },
        "id": "KKUWICkWZ5P_",
        "outputId": "97511f35-efe3-49c2-f8d6-d3c784a2c670"
      },
      "source": [
        "(train_images, train_labels), (test_images, test_labels) = cifar10.load_data()"
      ],
      "execution_count": 16,
      "outputs": [
        {
          "output_type": "stream",
          "text": [
            "Downloading data from https://www.cs.toronto.edu/~kriz/cifar-10-python.tar.gz\n",
            "170500096/170498071 [==============================] - 2s 0us/step\n"
          ],
          "name": "stdout"
        }
      ]
    },
    {
      "cell_type": "code",
      "metadata": {
        "id": "ux6BUZGQZ_O8"
      },
      "source": [
        "# Normalize the images.\n",
        "train_images = (train_images / 255) - 0.5\n",
        "test_images = (test_images / 255) - 0.5"
      ],
      "execution_count": 17,
      "outputs": []
    },
    {
      "cell_type": "code",
      "metadata": {
        "id": "vZllFwISaBnP"
      },
      "source": [
        "# Reshape the images.\n",
        "train_images = np.expand_dims(train_images, axis=3)\n",
        "test_images = np.expand_dims(test_images, axis=3)"
      ],
      "execution_count": 7,
      "outputs": []
    },
    {
      "cell_type": "code",
      "metadata": {
        "id": "SvY60WijaFZA"
      },
      "source": [
        "num_filters = 8\n",
        "filter_size = 3\n",
        "pool_size = 2"
      ],
      "execution_count": 18,
      "outputs": []
    },
    {
      "cell_type": "code",
      "metadata": {
        "id": "s9jCmMLHaGeQ"
      },
      "source": [
        "# Build the model.\n",
        "model = Sequential([\n",
        "  Conv2D(num_filters, filter_size, input_shape=(32, 32, 3)),\n",
        "  MaxPooling2D(pool_size=pool_size),\n",
        "  Flatten(),\n",
        "  Dense(10, activation='softmax'),\n",
        "])"
      ],
      "execution_count": 19,
      "outputs": []
    },
    {
      "cell_type": "code",
      "metadata": {
        "id": "GogEjaTSaaqL"
      },
      "source": [
        "# Compile the model.\n",
        "model.compile(\n",
        "  'adam',\n",
        "  loss='categorical_crossentropy',\n",
        "  metrics=['accuracy'],\n",
        ")"
      ],
      "execution_count": 20,
      "outputs": []
    },
    {
      "cell_type": "code",
      "metadata": {
        "colab": {
          "base_uri": "https://localhost:8080/"
        },
        "id": "IWL22crYadu7",
        "outputId": "aea2e756-5cfd-40ce-8623-998b8b6d58d6"
      },
      "source": [
        "# Train the model.\n",
        "model.fit(\n",
        "  train_images,\n",
        "  to_categorical(train_labels),\n",
        "  epochs=30,\n",
        "  validation_data=(test_images, to_categorical(test_labels)),\n",
        ")"
      ],
      "execution_count": 21,
      "outputs": [
        {
          "output_type": "stream",
          "text": [
            "Epoch 1/30\n",
            "1563/1563 [==============================] - 5s 3ms/step - loss: 1.7550 - accuracy: 0.3844 - val_loss: 1.4870 - val_accuracy: 0.4796\n",
            "Epoch 2/30\n",
            "1563/1563 [==============================] - 5s 3ms/step - loss: 1.4316 - accuracy: 0.5038 - val_loss: 1.3722 - val_accuracy: 0.5231\n",
            "Epoch 3/30\n",
            "1563/1563 [==============================] - 5s 3ms/step - loss: 1.3192 - accuracy: 0.5457 - val_loss: 1.3206 - val_accuracy: 0.5408\n",
            "Epoch 4/30\n",
            "1563/1563 [==============================] - 5s 3ms/step - loss: 1.2472 - accuracy: 0.5733 - val_loss: 1.2909 - val_accuracy: 0.5560\n",
            "Epoch 5/30\n",
            "1563/1563 [==============================] - 5s 3ms/step - loss: 1.1965 - accuracy: 0.5888 - val_loss: 1.2508 - val_accuracy: 0.5694\n",
            "Epoch 6/30\n",
            "1563/1563 [==============================] - 5s 3ms/step - loss: 1.1625 - accuracy: 0.6028 - val_loss: 1.2269 - val_accuracy: 0.5811\n",
            "Epoch 7/30\n",
            "1563/1563 [==============================] - 5s 3ms/step - loss: 1.1447 - accuracy: 0.6090 - val_loss: 1.2258 - val_accuracy: 0.5744\n",
            "Epoch 8/30\n",
            "1563/1563 [==============================] - 5s 3ms/step - loss: 1.1109 - accuracy: 0.6196 - val_loss: 1.2235 - val_accuracy: 0.5751\n",
            "Epoch 9/30\n",
            "1563/1563 [==============================] - 5s 3ms/step - loss: 1.0958 - accuracy: 0.6248 - val_loss: 1.2088 - val_accuracy: 0.5816\n",
            "Epoch 10/30\n",
            "1563/1563 [==============================] - 5s 3ms/step - loss: 1.0793 - accuracy: 0.6299 - val_loss: 1.2060 - val_accuracy: 0.5833\n",
            "Epoch 11/30\n",
            "1563/1563 [==============================] - 5s 3ms/step - loss: 1.0766 - accuracy: 0.6329 - val_loss: 1.2027 - val_accuracy: 0.5876\n",
            "Epoch 12/30\n",
            "1563/1563 [==============================] - 5s 3ms/step - loss: 1.0567 - accuracy: 0.6402 - val_loss: 1.2096 - val_accuracy: 0.5868\n",
            "Epoch 13/30\n",
            "1563/1563 [==============================] - 5s 3ms/step - loss: 1.0502 - accuracy: 0.6392 - val_loss: 1.2365 - val_accuracy: 0.5799\n",
            "Epoch 14/30\n",
            "1563/1563 [==============================] - 5s 3ms/step - loss: 1.0331 - accuracy: 0.6480 - val_loss: 1.2052 - val_accuracy: 0.5897\n",
            "Epoch 15/30\n",
            "1563/1563 [==============================] - 5s 3ms/step - loss: 1.0298 - accuracy: 0.6475 - val_loss: 1.1997 - val_accuracy: 0.5918\n",
            "Epoch 16/30\n",
            "1563/1563 [==============================] - 5s 3ms/step - loss: 1.0317 - accuracy: 0.6475 - val_loss: 1.2002 - val_accuracy: 0.5927\n",
            "Epoch 17/30\n",
            "1563/1563 [==============================] - 5s 3ms/step - loss: 1.0194 - accuracy: 0.6529 - val_loss: 1.2061 - val_accuracy: 0.5906\n",
            "Epoch 18/30\n",
            "1563/1563 [==============================] - 5s 3ms/step - loss: 1.0172 - accuracy: 0.6522 - val_loss: 1.1975 - val_accuracy: 0.5909\n",
            "Epoch 19/30\n",
            "1563/1563 [==============================] - 5s 3ms/step - loss: 1.0083 - accuracy: 0.6567 - val_loss: 1.2025 - val_accuracy: 0.5917\n",
            "Epoch 20/30\n",
            "1563/1563 [==============================] - 5s 3ms/step - loss: 1.0042 - accuracy: 0.6566 - val_loss: 1.2214 - val_accuracy: 0.5790\n",
            "Epoch 21/30\n",
            "1563/1563 [==============================] - 5s 3ms/step - loss: 1.0034 - accuracy: 0.6562 - val_loss: 1.2218 - val_accuracy: 0.5878\n",
            "Epoch 22/30\n",
            "1563/1563 [==============================] - 5s 3ms/step - loss: 0.9908 - accuracy: 0.6611 - val_loss: 1.1962 - val_accuracy: 0.5935\n",
            "Epoch 23/30\n",
            "1563/1563 [==============================] - 5s 3ms/step - loss: 0.9972 - accuracy: 0.6582 - val_loss: 1.2021 - val_accuracy: 0.5931\n",
            "Epoch 24/30\n",
            "1563/1563 [==============================] - 5s 3ms/step - loss: 0.9966 - accuracy: 0.6597 - val_loss: 1.2077 - val_accuracy: 0.5938\n",
            "Epoch 25/30\n",
            "1563/1563 [==============================] - 5s 3ms/step - loss: 0.9812 - accuracy: 0.6648 - val_loss: 1.2017 - val_accuracy: 0.5938\n",
            "Epoch 26/30\n",
            "1563/1563 [==============================] - 5s 3ms/step - loss: 0.9795 - accuracy: 0.6663 - val_loss: 1.2058 - val_accuracy: 0.5922\n",
            "Epoch 27/30\n",
            "1563/1563 [==============================] - 5s 3ms/step - loss: 0.9821 - accuracy: 0.6627 - val_loss: 1.2264 - val_accuracy: 0.5834\n",
            "Epoch 28/30\n",
            "1563/1563 [==============================] - 5s 3ms/step - loss: 0.9790 - accuracy: 0.6648 - val_loss: 1.2127 - val_accuracy: 0.5911\n",
            "Epoch 29/30\n",
            "1563/1563 [==============================] - 5s 3ms/step - loss: 0.9850 - accuracy: 0.6620 - val_loss: 1.2075 - val_accuracy: 0.5906\n",
            "Epoch 30/30\n",
            "1563/1563 [==============================] - 5s 3ms/step - loss: 0.9734 - accuracy: 0.6659 - val_loss: 1.2234 - val_accuracy: 0.5891\n"
          ],
          "name": "stdout"
        },
        {
          "output_type": "execute_result",
          "data": {
            "text/plain": [
              "<tensorflow.python.keras.callbacks.History at 0x7ffa6014a290>"
            ]
          },
          "metadata": {
            "tags": []
          },
          "execution_count": 21
        }
      ]
    },
    {
      "cell_type": "code",
      "metadata": {
        "id": "IXG08QPofs4k"
      },
      "source": [
        "# Predict on the first 5 test images.\n",
        "predictions = model.predict(test_images[:5])"
      ],
      "execution_count": 22,
      "outputs": []
    },
    {
      "cell_type": "code",
      "metadata": {
        "colab": {
          "base_uri": "https://localhost:8080/"
        },
        "id": "8aodZMdofvAo",
        "outputId": "638c9958-63eb-408f-b087-62594a7877b7"
      },
      "source": [
        "# Print our model's predictions.\n",
        "print(\"These are the model predictions :\")\n",
        "print(np.argmax(predictions, axis=1))\n",
        "print(\"\\n\")"
      ],
      "execution_count": 23,
      "outputs": [
        {
          "output_type": "stream",
          "text": [
            "These are the model predictions :\n",
            "[6 8 0 8 6]\n",
            "\n",
            "\n"
          ],
          "name": "stdout"
        }
      ]
    },
    {
      "cell_type": "code",
      "metadata": {
        "colab": {
          "base_uri": "https://localhost:8080/"
        },
        "id": "rRjPuW31fyMF",
        "outputId": "f1b3c141-d42c-4ffc-97fe-606aa8ff1726"
      },
      "source": [
        "# Check our predictions against the ground truths.\n",
        "print(\"These are the corresponding labels :\")\n",
        "print(test_labels[:5])"
      ],
      "execution_count": 24,
      "outputs": [
        {
          "output_type": "stream",
          "text": [
            "These are the corresponding labels :\n",
            "[[3]\n",
            " [8]\n",
            " [8]\n",
            " [0]\n",
            " [6]]\n"
          ],
          "name": "stdout"
        }
      ]
    }
  ]
}